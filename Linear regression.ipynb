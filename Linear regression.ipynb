{
 "cells": [
  {
   "cell_type": "code",
   "execution_count": 1,
   "id": "70ea8314-e619-4f58-b404-492e4e2f0c4a",
   "metadata": {},
   "outputs": [],
   "source": [
    "import sklearn\n",
    "from sklearn.linear_model import LinearRegression,LogisticRegression\n",
    "from sklearn import datasets\n",
    "from sklearn.model_selection import train_test_split\n",
    "data = sklearn.datasets.load_iris()\n",
    "Features = data.data\n",
    "iris_class = data.target"
   ]
  },
  {
   "cell_type": "code",
   "execution_count": 2,
   "id": "c95f4bff-5159-4cc0-999c-e707d89f2dba",
   "metadata": {},
   "outputs": [],
   "source": [
    "X_train,X_test,y_train,y_test = train_test_split(Features,iris_class,test_size = 0.3)"
   ]
  },
  {
   "cell_type": "code",
   "execution_count": 3,
   "id": "a0a80afd-4424-4f3a-be98-06639c34d1a1",
   "metadata": {},
   "outputs": [
    {
     "name": "stdout",
     "output_type": "stream",
     "text": [
      "Accuracy of the Linear Regression Model for iris data is:\n",
      " 94.74 %\n"
     ]
    }
   ],
   "source": [
    "model  = LinearRegression()\n",
    "model.fit(X_train,y_train)\n",
    "accuracy = model.score(X_test,y_test)\n",
    "print('Accuracy of the Linear Regression Model for iris data is:\\n',round(accuracy*100,2),'%')"
   ]
  }
 ],
 "metadata": {
  "kernelspec": {
   "display_name": "Python 3 (ipykernel)",
   "language": "python",
   "name": "python3"
  },
  "language_info": {
   "codemirror_mode": {
    "name": "ipython",
    "version": 3
   },
   "file_extension": ".py",
   "mimetype": "text/x-python",
   "name": "python",
   "nbconvert_exporter": "python",
   "pygments_lexer": "ipython3",
   "version": "3.11.7"
  }
 },
 "nbformat": 4,
 "nbformat_minor": 5
}
