{
 "cells": [
  {
   "cell_type": "code",
   "execution_count": 1,
   "id": "f04e3b2e-49c7-4df5-b14d-5699576ab2da",
   "metadata": {},
   "outputs": [
    {
     "name": "stdout",
     "output_type": "stream",
     "text": [
      "The acuracy of the Naive bayes algorithm is :\n",
      "96.667 %\n"
     ]
    }
   ],
   "source": [
    "import sklearn\n",
    "import numpy as np\n",
    "import pandas as pd\n",
    "from sklearn.datasets import load_iris\n",
    "from sklearn.naive_bayes import GaussianNB\n",
    "from sklearn.model_selection import train_test_split\n",
    "iris = sklearn.datasets.load_iris()\n",
    "feature = iris.data\n",
    "iris_class = iris.target\n",
    "\n",
    "X_train, X_test, y_train, y_test = train_test_split(feature, iris_class,test_size = 0.2)\n",
    "model = GaussianNB()\n",
    "model.fit(X_train, y_train)\n",
    "accuracy = model.score(X_test, y_test)\n",
    "print('The acuracy of the Naive bayes algorithm is :')\n",
    "print(round(accuracy*100,3),'%')"
   ]
  },
  {
   "cell_type": "code",
   "execution_count": null,
   "id": "0485132f-135a-4748-8a29-a04fa54974b4",
   "metadata": {},
   "outputs": [],
   "source": []
  },
  {
   "cell_type": "code",
   "execution_count": 5,
   "id": "2bd876ad-8c7b-4f01-a243-7adf316afe2a",
   "metadata": {},
   "outputs": [
    {
     "name": "stdout",
     "output_type": "stream",
     "text": [
      "Predicted class:  2\n"
     ]
    }
   ],
   "source": [
    "X_new =[[7.7, 3.8, 6.7, 2.2]]\n",
    "y_pred = model.predict(X_new)\n",
    "print('Predicted class: ',y_pred[0])"
   ]
  },
  {
   "cell_type": "code",
   "execution_count": null,
   "id": "52116343-eb81-40a0-8f45-71145f8b0314",
   "metadata": {},
   "outputs": [],
   "source": []
  },
  {
   "cell_type": "code",
   "execution_count": null,
   "id": "69c36d12-5223-4c8b-b690-7c2e38d375ef",
   "metadata": {},
   "outputs": [],
   "source": []
  }
 ],
 "metadata": {
  "kernelspec": {
   "display_name": "Python 3 (ipykernel)",
   "language": "python",
   "name": "python3"
  },
  "language_info": {
   "codemirror_mode": {
    "name": "ipython",
    "version": 3
   },
   "file_extension": ".py",
   "mimetype": "text/x-python",
   "name": "python",
   "nbconvert_exporter": "python",
   "pygments_lexer": "ipython3",
   "version": "3.11.7"
  }
 },
 "nbformat": 4,
 "nbformat_minor": 5
}
