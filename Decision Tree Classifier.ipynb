{
 "cells": [
  {
   "cell_type": "code",
   "execution_count": 1,
   "id": "bf00945a-b6c5-4168-a390-3af0ba246f6d",
   "metadata": {},
   "outputs": [],
   "source": [
    "import sklearn\n",
    "from sklearn.tree import DecisionTreeClassifier\n",
    "from sklearn import datasets\n",
    "from sklearn.model_selection import train_test_split\n",
    "from sklearn import tree\n",
    "from sklearn import metrics\n",
    "data = sklearn.datasets.load_iris()\n",
    "Features = data.data\n",
    "iris_class = data.target\n",
    "X_train,X_test,y_train,y_test = train_test_split(Features,iris_class,test_size = 0.2,random_state = 27)"
   ]
  },
  {
   "cell_type": "code",
   "execution_count": 2,
   "id": "4c08e643-baa7-4ed2-bde0-6e4e307c48a7",
   "metadata": {},
   "outputs": [
    {
     "name": "stdout",
     "output_type": "stream",
     "text": [
      "Accuracy of the Decision tree classifier for iris data is:\n",
      " 100.0 %\n",
      "Accuracy of the Decision tree classifier for iris data is:\n",
      " 90.0 %\n"
     ]
    }
   ],
   "source": [
    "from sklearn.tree import DecisionTreeClassifier\n",
    "clf = DecisionTreeClassifier(criterion = 'entropy',max_depth = 4)\n",
    "clf = clf.fit(X_train,y_train)\n",
    "x_pred = clf.predict(X_train)\n",
    "accuracy = metrics.accuracy_score(y_train,x_pred)\n",
    "print('Accuracy of the Decision tree classifier for iris data is:\\n',round(accuracy*100,2),'%')\n",
    "\n",
    "y_pred = clf.predict(X_test)\n",
    "\n",
    "accuracy = metrics.accuracy_score(y_test,y_pred)\n",
    "print('Accuracy of the Decision tree classifier for iris data is:\\n',round(accuracy*100,2),'%')"
   ]
  },
  {
   "cell_type": "code",
   "execution_count": 3,
   "id": "e74896d3-b182-4e05-9cfb-79f103b1a27a",
   "metadata": {},
   "outputs": [
    {
     "name": "stdout",
     "output_type": "stream",
     "text": [
      "|--- feature_3 <= 0.80\n",
      "|   |--- class: 0\n",
      "|--- feature_3 >  0.80\n",
      "|   |--- feature_3 <= 1.70\n",
      "|   |   |--- feature_2 <= 4.95\n",
      "|   |   |   |--- class: 1\n",
      "|   |   |--- feature_2 >  4.95\n",
      "|   |   |   |--- feature_1 <= 2.65\n",
      "|   |   |   |   |--- class: 2\n",
      "|   |   |   |--- feature_1 >  2.65\n",
      "|   |   |   |   |--- class: 1\n",
      "|   |--- feature_3 >  1.70\n",
      "|   |   |--- feature_2 <= 4.85\n",
      "|   |   |   |--- feature_1 <= 3.10\n",
      "|   |   |   |   |--- class: 2\n",
      "|   |   |   |--- feature_1 >  3.10\n",
      "|   |   |   |   |--- class: 1\n",
      "|   |   |--- feature_2 >  4.85\n",
      "|   |   |   |--- class: 2\n",
      "\n"
     ]
    }
   ],
   "source": [
    "from sklearn.tree import export_text\n",
    "print(export_text(clf))"
   ]
  },
  {
   "cell_type": "code",
   "execution_count": null,
   "id": "805a7a7d-3f22-41b6-9b80-f4bdfa2cea71",
   "metadata": {},
   "outputs": [],
   "source": []
  }
 ],
 "metadata": {
  "kernelspec": {
   "display_name": "Python 3 (ipykernel)",
   "language": "python",
   "name": "python3"
  },
  "language_info": {
   "codemirror_mode": {
    "name": "ipython",
    "version": 3
   },
   "file_extension": ".py",
   "mimetype": "text/x-python",
   "name": "python",
   "nbconvert_exporter": "python",
   "pygments_lexer": "ipython3",
   "version": "3.11.7"
  }
 },
 "nbformat": 4,
 "nbformat_minor": 5
}
